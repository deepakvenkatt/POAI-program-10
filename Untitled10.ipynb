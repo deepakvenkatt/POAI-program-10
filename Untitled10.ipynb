{
  "nbformat": 4,
  "nbformat_minor": 0,
  "metadata": {
    "colab": {
      "provenance": [],
      "authorship_tag": "ABX9TyMLvl7uBh4MWItzqO0YfU0V",
      "include_colab_link": true
    },
    "kernelspec": {
      "name": "python3",
      "display_name": "Python 3"
    },
    "language_info": {
      "name": "python"
    }
  },
  "cells": [
    {
      "cell_type": "markdown",
      "metadata": {
        "id": "view-in-github",
        "colab_type": "text"
      },
      "source": [
        "<a href=\"https://colab.research.google.com/github/deepakvenkatt/POAI-program-10/blob/main/Untitled10.ipynb\" target=\"_parent\"><img src=\"https://colab.research.google.com/assets/colab-badge.svg\" alt=\"Open In Colab\"/></a>"
      ]
    },
    {
      "cell_type": "code",
      "execution_count": 4,
      "metadata": {
        "colab": {
          "base_uri": "https://localhost:8080/"
        },
        "id": "EU8ZMQfYcGJr",
        "outputId": "238abec0-a154-48fc-d6cc-0f6413241cfc"
      },
      "outputs": [
        {
          "output_type": "stream",
          "name": "stdout",
          "text": [
            "Input Temperature: 18\n",
            "Calculated Fan Speed: 46.27\n"
          ]
        }
      ],
      "source": [
        "# Define membership functions for \"temperature\"\n",
        "def cold(temp):\n",
        "    return max(min((20 - temp) / 20, 1), 0)  # Linear decrease 0 at 20\n",
        "\n",
        "def warm(temp):\n",
        "    if temp <= 10 or temp >= 30:\n",
        "        return 0\n",
        "    elif 10 < temp < 20:\n",
        "        return (temp - 10) / 10\n",
        "    elif 20 <= temp < 30:\n",
        "        return (30 - temp) / 10\n",
        "\n",
        "def hot(temp):\n",
        "    return max(min((temp - 20) / 20, 1), 0)  # Linear increase from 20\n",
        "\n",
        "# Membership functions for \"fan speed\"\n",
        "def slow(speed):\n",
        "    return max(min((50 - speed) / 50, 1), 0)\n",
        "\n",
        "def medium(speed):\n",
        "    if speed <= 25 or speed >= 75:\n",
        "        return 0\n",
        "    elif 25 < speed < 50:\n",
        "        return (speed - 25) / 25\n",
        "    elif 50 <= speed < 75:\n",
        "        return (75 - speed) / 25\n",
        "\n",
        "def fast(speed):\n",
        "    return max(min((speed - 50) / 50, 1), 0)\n",
        "\n",
        "# Rule base:\n",
        "# If temp is cold then fan speed is slow\n",
        "# If temp is warm then fan speed is medium\n",
        "# If temp is hot then fan speed is fast\n",
        "\n",
        "def fuzzy_inference(temp_input):\n",
        "    # Fuzzification\n",
        "    cold_level = cold(temp_input)\n",
        "    warm_level = warm(temp_input)\n",
        "    hot_level = hot(temp_input)\n",
        "\n",
        "    # Rule evaluation (using min for AND)\n",
        "    rule1 = cold_level\n",
        "    rule2 = warm_level\n",
        "    rule3 = hot_level\n",
        "\n",
        "    # Aggregation (max for OR)\n",
        "    # We'll sample fan speed domain and compute membership values clipped by rule strength\n",
        "    speeds = range(0, 101)  # Fan speed 0 to 100\n",
        "    aggregated = []\n",
        "    for s in speeds:\n",
        "        slow_val = min(rule1, slow(s))\n",
        "        medium_val = min(rule2, medium(s))\n",
        "        fast_val = min(rule3, fast(s))\n",
        "        aggregated.append(max(slow_val, medium_val, fast_val))\n",
        "\n",
        "    # Defuzzification using centroid method\n",
        "    numerator = sum(s * val for s, val in zip(speeds, aggregated))\n",
        "    denominator = sum(aggregated)\n",
        "    if denominator == 0:\n",
        "        return 0\n",
        "    crisp_output = numerator / denominator\n",
        "    return crisp_output\n",
        "\n",
        "# Example:\n",
        "temp = 18  # Input temperature\n",
        "fan_speed = fuzzy_inference(temp)\n",
        "print(f\"Input Temperature: {temp}\")\n",
        "print(f\"Calculated Fan Speed: {fan_speed:.2f}\")"
      ]
    }
  ]
}